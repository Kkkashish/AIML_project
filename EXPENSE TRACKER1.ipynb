{
 "cells": [
  {
   "cell_type": "code",
   "execution_count": null,
   "id": "fd699fb2",
   "metadata": {},
   "outputs": [
    {
     "name": "stdout",
     "output_type": "stream",
     "text": [
      "\n",
      "Expense Tracker Menu:\n",
      "1. Add Expense\n",
      "2. Display Expenses\n",
      "3. Exit\n"
     ]
    }
   ],
   "source": [
    "import matplotlib.pyplot as plt\n",
    "import seaborn as sns\n",
    "import plotly.express as px\n",
    "\n",
    "class ExpenseTracker:\n",
    "    def __init__(self):\n",
    "        self.expenses = {}\n",
    "        \n",
    "    # This method allows users to add expenses. If the category already exists in the expenses dictionary,\n",
    "    # the amount is added to the existing total for that category. If not, a new entry is created for that category.\n",
    "    def add_expense(self, category, amount):\n",
    "        if category in self.expenses:\n",
    "            self.expenses[category] += amount\n",
    "        else:\n",
    "            self.expenses[category] = amount\n",
    "        \n",
    "    def display_expenses(self):\n",
    "        categories = list(self.expenses.keys())\n",
    "        amounts = list(self.expenses.values())\n",
    "        \n",
    "        # Plotting bar chart using Matplotlib\n",
    "        plt.bar(categories, amounts, color='blue')\n",
    "        plt.xlabel('Categories')\n",
    "        plt.ylabel('Amount')\n",
    "        plt.title('Expense Tracker - Bar Chart (Matplotlib)')\n",
    "        plt.show()\n",
    "        \n",
    "        # Plotting bar chart using Plotly Express\n",
    "        fig = px.bar(x=categories, y=amounts, labels={'x':'Categories', 'y':'Amount'})\n",
    "        fig.show()\n",
    "        \n",
    "        # Plotting heatmap using Seaborn\n",
    "        sns.heatmap(data=[amounts], annot=True, cmap=\"YlGnBu\", xticklabels=categories)\n",
    "        plt.xlabel('Categories')\n",
    "        plt.ylabel('Amount')\n",
    "        plt.title('Expense Tracker - Heatmap (Seaborn)')\n",
    "        plt.show()\n",
    "        \n",
    "\n",
    "def main():\n",
    "    tracker = ExpenseTracker()\n",
    "    while True:\n",
    "        print(\"\\nExpense Tracker Menu:\")\n",
    "        print(\"1. Add Expense\")\n",
    "        print(\"2. Display Expenses\")\n",
    "        print(\"3. Exit\")\n",
    "        choice = input(\"Enter your choice: \")\n",
    "\n",
    "        if choice == '1':\n",
    "            category = input(\"Enter expense category: \")\n",
    "            amount = float(input(\"Enter expense amount: \"))\n",
    "            tracker.add_expense(category, amount)\n",
    "            print(\"Expense added successfully!\")\n",
    "\n",
    "        elif choice == '2':\n",
    "            if tracker.expenses:\n",
    "                print(\"\\nExpenses:\")\n",
    "                for category, amount in tracker.expenses.items():\n",
    "                    print(f\"{category}: ${amount}\")\n",
    "                tracker.display_expenses()\n",
    "            else:\n",
    "                print(\"No expenses to display.\")\n",
    "        \n",
    "        elif choice == '3':\n",
    "            print(\"Exiting...\")\n",
    "            break\n",
    "        \n",
    "        else:\n",
    "            print(\"Invalid choice. Please try again.\")\n",
    "\n",
    "if __name__ == \"__main__\":\n",
    "    main()\n"
   ]
  },
  {
   "cell_type": "code",
   "execution_count": null,
   "id": "7a8c039f",
   "metadata": {},
   "outputs": [],
   "source": []
  }
 ],
 "metadata": {
  "kernelspec": {
   "display_name": "Python 3 (ipykernel)",
   "language": "python",
   "name": "python3"
  },
  "language_info": {
   "codemirror_mode": {
    "name": "ipython",
    "version": 3
   },
   "file_extension": ".py",
   "mimetype": "text/x-python",
   "name": "python",
   "nbconvert_exporter": "python",
   "pygments_lexer": "ipython3",
   "version": "3.11.0"
  }
 },
 "nbformat": 4,
 "nbformat_minor": 5
}
